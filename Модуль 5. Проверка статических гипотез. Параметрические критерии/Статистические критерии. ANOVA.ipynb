{
 "cells": [
  {
   "cell_type": "markdown",
   "metadata": {},
   "source": [
    "### Однофакторный дисперсионный анализ (ANOVA)"
   ]
  },
  {
   "cell_type": "code",
   "execution_count": 1,
   "metadata": {},
   "outputs": [],
   "source": [
    "import pandas as pd\n",
    "import matplotlib.pyplot as plt\n",
    "%matplotlib inline\n",
    "import seaborn as sns\n",
    "import numpy as np\n",
    "import itertools\n",
    "import scipy\n",
    "import tqdm\n",
    "from scipy import stats\n",
    "import random\n",
    "\n",
    "from IPython.display import *"
   ]
  },
  {
   "cell_type": "markdown",
   "metadata": {},
   "source": [
    "Сгенерируем теоретическую генеральную совокупность."
   ]
  },
  {
   "cell_type": "code",
   "execution_count": 2,
   "metadata": {},
   "outputs": [
    {
     "data": {
      "image/png": "[encoded data removed]",
      "text/plain": [
       "<Figure size 1400x700 with 1 Axes>"
      ]
     },
     "metadata": {},
     "output_type": "display_data"
    }
   ],
   "source": [
    "distrib = stats.norm(loc = 35, scale = 10)\n",
    "gen_pop = distrib.rvs(size=10000)\n",
    "\n",
    "fig = plt.figure(figsize=(14, 7))\n",
    "ax1 = plt.subplot(111)\n",
    "plt.hist(gen_pop, 100)\n",
    "plt.show()"
   ]
  },
  {
   "cell_type": "markdown",
   "metadata": {},
   "source": [
    "Извлечем из нашей совокупности 3 случайные подгруппы по 50 заказов в каждой - пусть это будут наблюдения, полученные в реальном эксперименте."
   ]
  },
  {
   "cell_type": "code",
   "execution_count": 3,
   "metadata": {},
   "outputs": [
    {
     "data": {
      "text/plain": [
       "array([[31, 24, 27, 32, 38, 23, 23, 33, 38, 30, 43, 31, 35, 42, 43, 30,\n",
       "        29, 44, 40, 59, 43, 23, 46, 21, 40, 28, 26, 30, 26, 42, 20, 41,\n",
       "        22, 53, 23, 52, 27, 40, 24, 33, 46, 23, 28, 41, 23, 40, 42, 40,\n",
       "        30, 14],\n",
       "       [33, 16, 56, 51, 33, 33, 36, 53, 54, 31, 38, 35, 24, 22, 40, 41,\n",
       "        37, 41, 44, 18, 26, 34, 31, 36, 47, 35, 44, 29, 31, 26, 50, 48,\n",
       "        38, 41, 26, 33, 23, 28, 50, 24, 14, 47, 37, 38, 30, 34, 41, 23,\n",
       "        44, 28],\n",
       "       [41, 36, 30, 36, 17, 32, 33, 41, 28, 33, 45, 31, 63, 34, 35, 42,\n",
       "        30, 25, 33, 33, 27, 22, 30, 52, 26, 42, 32, 34, 32, 45, 54, 33,\n",
       "        35, 35, 32, 42, 28, 33, 26, 12, 58, 29, 21, 38, 26, 22, 42, 31,\n",
       "        31, 36]])"
      ]
     },
     "execution_count": 3,
     "metadata": {},
     "output_type": "execute_result"
    }
   ],
   "source": [
    "np.random.seed(3106)\n",
    "sample_groups = []\n",
    "for i in range(3):\n",
    "    sample_groups.append(np.random.choice(gen_pop, size = 50).astype(int))\n",
    "sample_groups = np.array(sample_groups)\n",
    "sample_groups"
   ]
  },
  {
   "cell_type": "markdown",
   "metadata": {},
   "source": [
    "Рассчитаем:\n",
    "- среднее каждой выборки и стандартное отклонение (голубые линии на графике)\n",
    "- среднее средних и стандартное отклонение средних (оранжевая линия на графике)"
   ]
  },
  {
   "cell_type": "code",
   "execution_count": 4,
   "metadata": {},
   "outputs": [
    {
     "data": {
      "image/png": "[encoded data removed]",
      "text/plain": [
       "<Figure size 1400x700 with 1 Axes>"
      ]
     },
     "metadata": {},
     "output_type": "display_data"
    }
   ],
   "source": [
    "x = np.mean(sample_groups,axis = 1)\n",
    "y = np.arange(sample_groups.shape[0])\n",
    "e = np.std(sample_groups,axis = 1)\n",
    "\n",
    "fig = plt.figure(figsize=(14, 7))\n",
    "plt.errorbar(x, y, xerr = e, linestyle='None', marker='o')\n",
    "plt.errorbar( np.mean(x), y.shape[0] ,xerr =  np.std(x), linestyle='None', marker='o')\n",
    "\n",
    "plt.show()"
   ]
  },
  {
   "cell_type": "markdown",
   "metadata": {},
   "source": [
    "**1)\tформулируются гипотезы Н0 и Н1;**\n",
    "\n",
    "\n",
    "H0 - выборки взяты из одного распределения (средние всех выборок равны)\n",
    "\n",
    "H1 - выборки взяты из разных распределений (хотя бы пара средних различается между собой)"
   ]
  },
  {
   "cell_type": "markdown",
   "metadata": {},
   "source": [
    "**2)\tфиксируется уровень значимости критерия значимости**\n",
    "\n",
    "Зададим α на уровне значимости 5%."
   ]
  },
  {
   "cell_type": "markdown",
   "metadata": {},
   "source": [
    "**3)выбирается статистический критерий для проверки гипотезы;**"
   ]
  },
  {
   "cell_type": "markdown",
   "metadata": {},
   "source": [
    "Будем использовать ANOVA."
   ]
  },
  {
   "cell_type": "markdown",
   "metadata": {},
   "source": [
    "**4) по выборочным данным вычисляется значение K-наблюдаемое по распределению выбранной статистики**"
   ]
  },
  {
   "cell_type": "code",
   "execution_count": 5,
   "metadata": {},
   "outputs": [],
   "source": [
    "num_of_groups = sample_groups.shape[0]"
   ]
  },
  {
   "cell_type": "code",
   "execution_count": 6,
   "metadata": {},
   "outputs": [
    {
     "data": {
      "text/plain": [
       "34.38666666666666"
      ]
     },
     "execution_count": 6,
     "metadata": {},
     "output_type": "execute_result"
    }
   ],
   "source": [
    "#Рассчитаем среднее по всем наблюдениям:\n",
    "X_mean = sample_groups.mean()\n",
    "X_mean"
   ]
  },
  {
   "cell_type": "code",
   "execution_count": 7,
   "metadata": {},
   "outputs": [],
   "source": [
    "# Рассчитаем среднее для каждой группы\n",
    "group_means = sample_groups.mean(axis = 1)\n",
    "group_means_reshaped = group_means.reshape(num_of_groups, 1)"
   ]
  },
  {
   "cell_type": "code",
   "execution_count": 8,
   "metadata": {},
   "outputs": [
    {
     "data": {
      "text/plain": [
       "14183.52"
      ]
     },
     "execution_count": 8,
     "metadata": {},
     "output_type": "execute_result"
    }
   ],
   "source": [
    "# SSW - сумма квадратов отклонений отлонений\n",
    "SSW  = np.sum((sample_groups  - group_means_reshaped)**2)\n",
    "SSW"
   ]
  },
  {
   "cell_type": "code",
   "execution_count": 9,
   "metadata": {},
   "outputs": [
    {
     "data": {
      "text/plain": [
       "88.0533333333331"
      ]
     },
     "execution_count": 9,
     "metadata": {},
     "output_type": "execute_result"
    }
   ],
   "source": [
    "# SSB \n",
    "group_lengths = [x.shape[0] for x in sample_groups]\n",
    "\n",
    "SSB  = np.sum((group_means - X_mean)**2 * group_lengths)\n",
    "SSB"
   ]
  },
  {
   "cell_type": "code",
   "execution_count": 10,
   "metadata": {},
   "outputs": [
    {
     "data": {
      "text/plain": [
       "0.4562985775040316"
      ]
     },
     "execution_count": 10,
     "metadata": {},
     "output_type": "execute_result"
    }
   ],
   "source": [
    "# F\n",
    "m = num_of_groups\n",
    "N = np.sum(group_lengths)\n",
    "\n",
    "F = (SSB/(m-1))/(SSW/(N-m))\n",
    "F"
   ]
  },
  {
   "cell_type": "markdown",
   "metadata": {},
   "source": [
    "Воспользуемся пакетом stats для аналогичного расчета:"
   ]
  },
  {
   "cell_type": "code",
   "execution_count": 11,
   "metadata": {},
   "outputs": [],
   "source": [
    "F, p = stats.f_oneway(*sample_groups)"
   ]
  },
  {
   "cell_type": "code",
   "execution_count": 12,
   "metadata": {},
   "outputs": [
    {
     "data": {
      "text/plain": [
       "0.4562985775040328"
      ]
     },
     "execution_count": 12,
     "metadata": {},
     "output_type": "execute_result"
    }
   ],
   "source": [
    "# F-наблюдаемое\n",
    "F"
   ]
  },
  {
   "cell_type": "markdown",
   "metadata": {},
   "source": [
    "**5)\tс учетом выбранного уровня значимости вычисляется критическая область и область принятия гипотезы, то есть находится K-критическое**"
   ]
  },
  {
   "cell_type": "code",
   "execution_count": 13,
   "metadata": {},
   "outputs": [
    {
     "data": {
      "text/plain": [
       "2.6661487758521765"
      ]
     },
     "execution_count": 13,
     "metadata": {},
     "output_type": "execute_result"
    }
   ],
   "source": [
    "# F-критическое\n",
    "F_critical = scipy.stats.f.ppf(q=1-.05, dfn = m, dfd = N - m)\n",
    "F_critical"
   ]
  },
  {
   "cell_type": "markdown",
   "metadata": {},
   "source": [
    "**6)\tнайденное значение K-наблюдаемое критерия сравнивается с K-критическое и по результатам сравнения делается вывод**"
   ]
  },
  {
   "cell_type": "code",
   "execution_count": 14,
   "metadata": {},
   "outputs": [
    {
     "data": {
      "text/plain": [
       "True"
      ]
     },
     "execution_count": 14,
     "metadata": {},
     "output_type": "execute_result"
    }
   ],
   "source": [
    "F < F_critical"
   ]
  },
  {
   "cell_type": "markdown",
   "metadata": {},
   "source": [
    "**Вывод**: Мы не можем отвергнуть гипотезу H0"
   ]
  },
  {
   "cell_type": "code",
   "execution_count": 15,
   "metadata": {},
   "outputs": [
    {
     "data": {
      "text/plain": [
       "0.6345190118245763"
      ]
     },
     "execution_count": 15,
     "metadata": {},
     "output_type": "execute_result"
    }
   ],
   "source": [
    "p"
   ]
  },
  {
   "cell_type": "code",
   "execution_count": 16,
   "metadata": {},
   "outputs": [
    {
     "data": {
      "text/plain": [
       "True"
      ]
     },
     "execution_count": 16,
     "metadata": {},
     "output_type": "execute_result"
    }
   ],
   "source": [
    "p > 0.05"
   ]
  },
  {
   "cell_type": "markdown",
   "metadata": {},
   "source": [
    "Теперь давайте попробуем разобраться, откуда взялось распределение F, с которым мы работали.\n",
    "\n",
    "Будем из нашей генеральной совокупности извлекать выборки и считать F. Выборки будут также размером 50 и количество выборок будет равно 3, то есть по аналогии с тем же дизайном эксперимента, который мы проводили выше."
   ]
  },
  {
   "cell_type": "code",
   "execution_count": 17,
   "metadata": {},
   "outputs": [
    {
     "name": "stderr",
     "output_type": "stream",
     "text": [
      "  9%|▉         | 934/10000 [00:00<00:03, 2910.48it/s]"
     ]
    },
    {
     "name": "stderr",
     "output_type": "stream",
     "text": [
      "100%|██████████| 10000/10000 [00:03<00:00, 3037.26it/s]\n"
     ]
    }
   ],
   "source": [
    "def calculate_random_sample_group(sz = 50):\n",
    "    sample_groups = []\n",
    "    for i in range(num_of_groups):\n",
    "        sample_groups.append(np.random.choice(gen_pop,  size = sz))\n",
    "    F, _ = stats.f_oneway(*sample_groups)    \n",
    "    return sample_groups, F\n",
    "\n",
    "Fs = []\n",
    "sgs = []\n",
    "for i in tqdm.tqdm(range(10000)):\n",
    "    sg,F = calculate_random_sample_group()\n",
    "    Fs.append(F)\n",
    "    sgs.append(sg)"
   ]
  },
  {
   "cell_type": "markdown",
   "metadata": {},
   "source": [
    "Распределение приняло опредленную форму, такое распредление называется распредление Фишера, на основе рассчитанных статистик по нему мы как раз и принимали решения."
   ]
  },
  {
   "cell_type": "code",
   "execution_count": 18,
   "metadata": {},
   "outputs": [
    {
     "data": {
      "image/png": "[encoded data removed]",
      "text/plain": [
       "<Figure size 1000x600 with 1 Axes>"
      ]
     },
     "metadata": {},
     "output_type": "display_data"
    }
   ],
   "source": [
    "fig, ax = plt.subplots(figsize=(10, 6))\n",
    "plt.hist(Fs,bins = 100)\n",
    "plt.show()"
   ]
  }
 ],
 "metadata": {
  "kernelspec": {
   "display_name": "Python 3",
   "language": "python",
   "name": "python3"
  },
  "language_info": {
   "codemirror_mode": {
    "name": "ipython",
    "version": 3
   },
   "file_extension": ".py",
   "mimetype": "text/x-python",
   "name": "python",
   "nbconvert_exporter": "python",
   "pygments_lexer": "ipython3",
   "version": "3.11.2"
  }
 },
 "nbformat": 4,
 "nbformat_minor": 2
}
